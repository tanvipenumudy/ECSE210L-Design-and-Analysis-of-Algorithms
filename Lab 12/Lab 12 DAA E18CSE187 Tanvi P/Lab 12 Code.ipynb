import random
def func(list1,low,high):
    p=low
    i=low-1
    j=high+1
    while(True):
        while(True):
            i=i+1
            if(list1[i]>=list1[p]):
                break
        while(True):
            j=j-1
            if(list1[j]<=list1[p]):
                break
        if(i>=j):
            return j 
        list1[i],list1[j]=list1[j],list1[i]
def qsort(list1,low,high):
    if(low<high):
        j=rp(list1,low,high)
        qsort(list1,low,j)
        qsort(list1,j+1,high)
def rp(list1,low,high):
    rpivot=random.randrange(low,high)
    print("index =",rpivot,"pivot =",list1[rpivot])
    list1[low],list1[rpivot]=list1[rpivot],list1[low]
    print(list1)
    return func(list1,low,high)
#list1=[10,5,7,9,12,17,4,8,2,11]   
list1=[int(x) for x in input().split()]
qsort(list1,0,len(list1)-1)
print("Sorted Array of Elements=",list1) 